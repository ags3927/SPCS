{
 "cells": [
  {
   "cell_type": "markdown",
   "metadata": {},
   "source": [
    "### Include libraries"
   ]
  },
  {
   "cell_type": "code",
   "execution_count": 19,
   "metadata": {
    "vscode": {
     "languageId": "r"
    }
   },
   "outputs": [],
   "source": [
    "require(\"Matrix\")\n",
    "require(\"rsvd\")\n",
    "require(\"factoextra\")\n",
    "require(\"foreach\")\n",
    "require(\"dplyr\")\n",
    "require(\"doParallel\")"
   ]
  },
  {
   "cell_type": "markdown",
   "metadata": {},
   "source": [
    "### Utility functions"
   ]
  },
  {
   "cell_type": "code",
   "execution_count": 20,
   "metadata": {
    "vscode": {
     "languageId": "r"
    }
   },
   "outputs": [],
   "source": [
    "calcRandPCA<-function(tmat, d=10, seed=42)\n",
    "{\n",
    "  # @param tmat A non-negative matrix with samples by features\n",
    "  # @return A matrix with features by samples projected on PCA space\n",
    "  set.seed(seed)\n",
    "  \n",
    "  rpca_obj <- rpca(tmat, k=d, center=T, scale=F, retx=T, p=10, q=7)\n",
    "  rpca_obj$x\n",
    "}\n",
    "\n",
    "calcPDist <- function(tmat)\n",
    "{\n",
    "  get_dist(tmat,method = \"pearson\")\n",
    "}\n",
    "\n",
    "calcPContribution<-function(distMat)\n",
    "{\n",
    "  distMat<-as.matrix(distMat)\n",
    "  rmat<-exp(-4.5*(distMat)^2)\n",
    "  rmat[distMat>1]<-0\n",
    "  diag(rmat)<-0\n",
    "  \n",
    "  return(Matrix(rmat, sparse=T))\n",
    "}\n",
    "\n",
    "findPNeighbors<-function(mat.pcontribution, positions, tau.p=16, nThreads=8)\n",
    "{\n",
    "  if(tau.p < 0)\n",
    "    stop(\"Parameter tau.p must be 0 or positive.\")\n",
    "  \n",
    "  bars<-positions$barcodes\n",
    "  ind.bars<-1:length(bars)\n",
    "  names(ind.bars)<-bars\n",
    "  \n",
    "  cl=makeCluster(nThreads)\n",
    "  registerDoParallel(cl)\n",
    "  \n",
    "  p.neighbors<-foreach(i=1:length(bars),.packages = c(\"dplyr\",\"Matrix\")) %dopar%\n",
    "    {\n",
    "      a<-positions[mat.pcontribution[,i]>0,] \n",
    "      if(nrow(a)>0){\n",
    "        b<-a %>% \n",
    "          mutate(p.contribution = mat.pcontribution[ind.bars[barcodes],i])\n",
    "        if(0 == tau.p || nrow(a)<tau.p)\n",
    "          b %>% mutate(ps.contribution = p.contribution/(sum(p.contribution)+0.00000001))\n",
    "        else\n",
    "          (b %>% arrange(desc(p.contribution)))[1:tau.p,] %>% mutate(ps.contribution = p.contribution/(sum(p.contribution)+0.00000001))\n",
    "      } else\n",
    "        NULL\n",
    "    }\n",
    "  \n",
    "  stopCluster(cl)\n",
    "  \n",
    "  names(p.neighbors)<-bars\n",
    "  \n",
    "  return(p.neighbors)\n",
    "  \n",
    "}\n",
    "\n",
    "#Spatial neighbors\n",
    "\n",
    "GetPointNeighbors<-function(px,py,order=2,is.keepself=F)\n",
    "{\n",
    "\n",
    "  x.range<-(px-order):(px+order)\n",
    "  x.range<-x.range[x.range>=0]\n",
    "  y.range<-(py-order):(py+order)\n",
    "  y.range<-y.range[y.range>=0]\n",
    "  \n",
    "  x.range<-rep.int(x.range,times=length(y.range))\n",
    "  x.range<-sort(x.range)\n",
    "  \n",
    "  points<-data.frame(x=x.range, y=y.range)\n",
    "  \n",
    "  points<-points %>% mutate(distance=abs(x-px)+abs(y-py)) %>%\n",
    "    filter(distance <= order)\n",
    "  \n",
    "  if(!is.keepself)\n",
    "    points<-points %>% filter(distance>0)\n",
    "  \n",
    "  return(points)\n",
    "  \n",
    "}\n",
    "\n",
    "findSNeighbors<-function(positions, is.hexa=F , tau.s=2, nThreads=8)\n",
    "{\n",
    "  if(is.hexa)\n",
    "    tau.s<-tau.s*2\n",
    "\n",
    "  bars<-positions$barcodes\n",
    "  ind.bars<-1:length(bars)\n",
    "  names(ind.bars)<-bars\n",
    "  \n",
    "  cl=makeCluster(nThreads)\n",
    "  registerDoParallel(cl)\n",
    "  \n",
    "  s.neighbors<-foreach(i=1:length(bars),.packages =c(\"dplyr\",\"Matrix\"),.export = c(\"GetPointNeighbors\")) %dopar%\n",
    "    {\n",
    "      a<-inner_join(x=positions, y=GetPointNeighbors(px=positions$st.x[i],py=positions$st.y[i],order = tau.s),by=c(\"st.x\"=\"x\",\"st.y\"=\"y\")) \n",
    "      if(nrow(a)>0){\n",
    "        a %>%\n",
    "        mutate(s.contribution=(1/distance)) %>%\n",
    "        mutate(ss.contribution=s.contribution/(sum(s.contribution)+0.00000001))\n",
    "      } else\n",
    "        NULL\n",
    "    } \n",
    "  \n",
    "  stopCluster(cl)\n",
    "  \n",
    "  names(s.neighbors)<-positions$barcodes\n",
    "  \n",
    "  return(s.neighbors)\n",
    "  \n",
    "}\n",
    "\n",
    "\n",
    "#get combined smoothed expression matrix\n",
    "\n",
    "getCSmoothedExp<-function(exp, s.neighbors, p.neighbors, alpha, beta, nThreads=8)\n",
    "{\n",
    "  bars<-names(p.neighbors)\n",
    "  ind.bars<-1:length(p.neighbors)\n",
    "  names(ind.bars)<-bars\n",
    "\n",
    "  cl=makeCluster(nThreads)\n",
    "  registerDoParallel(cl)\n",
    "  \n",
    "  s.exp<-foreach(i=1:length(bars),.combine = \"cbind\",.packages = c(\"dplyr\",\"Matrix\")) %dopar%\n",
    "    {\n",
    "      if(!is.null(s.neighbors[[i]]))\n",
    "        exp[,ind.bars[s.neighbors[[i]]$barcodes]] %*% Matrix(s.neighbors[[i]]$ss.contribution,sparse=T)\n",
    "      else\n",
    "        0\n",
    "    }\n",
    "  \n",
    "  p.exp<-foreach(i=1:length(bars),.combine = \"cbind\",.packages = c(\"dplyr\",\"Matrix\")) %dopar%\n",
    "    {\n",
    "      if(!is.null(p.neighbors[[i]]))\n",
    "        exp[,ind.bars[p.neighbors[[i]]$barcodes]] %*% Matrix(p.neighbors[[i]]$ps.contribution,sparse=T)\n",
    "      else\n",
    "        0\n",
    "    }\n",
    "  \n",
    "  stopCluster(cl)\n",
    "  \n",
    "  exp.smoothed<-exp * (1-alpha) + (s.exp * beta + p.exp * (1-beta))*alpha\n",
    "\n",
    "  return(exp.smoothed)\n",
    "}\n",
    "\n",
    "fillBlanks<-function(exp, coord, is.hexa=F, tau.s=2, filling.threshold = 0.5, nThreads = 8)\n",
    "{\n",
    "\n",
    "  x.bounds<-c(min(coord$st.x),max(coord$st.x))\n",
    "  y.bounds<-c(min(coord$st.y),max(coord$st.y))\n",
    "  x.availible<-x.bounds[1]:x.bounds[2]\n",
    "  y.availible<-y.bounds[1]:y.bounds[2]\n",
    "  x.availible<-sort(rep(x.availible,length(y.availible)))\n",
    "  coord.maybe<-data.frame(st.x=x.availible,st.y=y.availible)\n",
    "\n",
    "  if(is.hexa)\n",
    "  {\n",
    "    tau.s<-tau.s*2\n",
    "    coord.maybe<- coord.maybe %>% \n",
    "      mutate(is.exist = ((st.x %% 2) == (st.y %% 2))) %>%\n",
    "      select(st.x,st.y)\n",
    "   }\n",
    "  \n",
    "  coord.maybe<-suppressMessages(coord %>% right_join(coord.maybe,copy = T) %>% filter(is.na(barcodes)))\n",
    "  coord.maybe$barcodes<-paste0(\"SUPP\",1:nrow(coord.maybe))\n",
    "  \n",
    "  cl=makeCluster(nThreads)\n",
    "  registerDoParallel(cl)\n",
    "  \n",
    "  s.neighbors<-foreach(i=1:nrow(coord.maybe),.packages = c(\"dplyr\"),.export = c(\"GetPointNeighbors\")) %dopar%\n",
    "    {\n",
    "      nbs.maybe<-GetPointNeighbors(px = coord.maybe$st.x[i],py = coord.maybe$st.y[i],order = tau.s)\n",
    "      if(is.hexa)\n",
    "        nbs.maybe<-nbs.maybe %>% filter(0 == distance %% 2)\n",
    "      \n",
    "      nbs<-coord %>% inner_join(nbs.maybe,by=c(\"st.x\"=\"x\",\"st.y\"=\"y\"))\n",
    "      if(nrow(nbs)>filling.threshold * nrow(nbs.maybe))\n",
    "      {\n",
    "        nbs %>%\n",
    "        mutate(s.contribution=(1/distance)) %>%\n",
    "        mutate(ss.contribution=s.contribution/(sum(s.contribution)+0.00000001))\n",
    "      } else\n",
    "      NULL\n",
    "    }\n",
    "  \n",
    "  names(s.neighbors)<-coord.maybe$barcodes\n",
    "  s.neighbors<-s.neighbors[sapply(s.neighbors,function(x){!is.null(x)})]\n",
    "  \n",
    "  if(0==length(s.neighbors))\n",
    "  {\n",
    "    s.exp<-NULL\n",
    "    s.neighbors<-NULL\n",
    "  }\n",
    "  else\n",
    "  {\n",
    "    s.exp<-foreach(i=1:length(s.neighbors),.combine = \"cbind\",.packages = c(\"dplyr\",\"Matrix\")) %dopar%\n",
    "      {\n",
    "        exp[,s.neighbors[[i]]$barcodes] %*% Matrix(s.neighbors[[i]]$ss.contribution,sparse=T)\n",
    "      }\n",
    "    colnames(s.exp)<-names(s.neighbors)\n",
    "  }\n",
    "  stopCluster(cl)\n",
    "  \n",
    "  return(list(exp=s.exp,colData=filter(coord.maybe,barcodes %in% names(s.neighbors))))\n",
    "}\n",
    "\n",
    "selectSamples <- function(data.tbl, zero.cutoff=0.99) {\n",
    "  print(\"Filter samples\")\n",
    "  print(sprintf(\"Number of samples %d\", dim(data.tbl)[2]))\n",
    "  keep.idx = colSums(data.tbl==0)<=(zero.cutoff*dim(data.tbl)[1])\n",
    "  data.tbl = data.tbl[,keep.idx]\n",
    "  print(sprintf(\"Remaining number of samples %d\", dim(data.tbl)[2]))\n",
    "  return(list(\"data\"=data.tbl, \"idx\"=keep.idx))\n",
    "}\n",
    "\n",
    "\n",
    "# Remove genes with mostly zeros and low variances\n",
    "# Filter out genes with more than zero.cutoff*100% zero expressed samples\n",
    "# Filter our genes with lowest var.cutoff*100% variances\n",
    "selectGenes <- function(data.tbl, zero.cutoff=0.5, var.cutoff=0.1) {\n",
    "  print(\"Filter genes\")\n",
    "  print(sprintf(\"Number of genes %d\", dim(data.tbl)[1]))\n",
    "  keep.idx1 = rowSums(data.tbl==0)<=(zero.cutoff*dim(data.tbl)[2])\n",
    "  data.tbl = data.tbl[keep.idx1,]\n",
    "  keep.idx = keep.idx1\n",
    "  print(sprintf(\"Remaining number of genes %d\", dim(data.tbl)[1]))\n",
    "  vars = apply(data.tbl, 1, var)\n",
    "  if (var.cutoff > 0) {\n",
    "    keep.idx2 = vars>=quantile(vars, var.cutoff)\n",
    "    data.tbl = data.tbl[keep.idx2,]\n",
    "    keep.idx = keep.idx[keep.idx2]\n",
    "  }\n",
    "  print(sprintf(\"Remaining number of genes %d\", dim(data.tbl)[1]))\n",
    "  return(list(\"data\"=data.tbl, \"idx\"=keep.idx))\n",
    "}\n",
    "\n",
    "\n",
    "# Normalize the library size of each sample to sum up to scale\n",
    "NormalizeLibrarySize <- function(data.tbl, scale=10000) {\n",
    "  return(sweep(data.tbl, 2, colSums(data.tbl), FUN=\"/\") * scale)\n",
    "}"
   ]
  },
  {
   "cell_type": "markdown",
   "metadata": {
    "vscode": {
     "languageId": "r"
    }
   },
   "source": [
    "### Single data"
   ]
  },
  {
   "cell_type": "code",
   "execution_count": 85,
   "metadata": {
    "vscode": {
     "languageId": "r"
    }
   },
   "outputs": [],
   "source": [
    "data<-read.csv(file = \"/data/ani/repos/smoothing_tools/SPCS/test_data/indiana/counts/A.txt\", sep=\",\")\n",
    "coord<-read.csv(file = \"/data/ani/repos/smoothing_tools/SPCS/test_data/indiana/coords/A.txt\", sep=\",\")"
   ]
  },
  {
   "cell_type": "markdown",
   "metadata": {},
   "source": [
    "#### Select high quality genes using variance"
   ]
  },
  {
   "cell_type": "code",
   "execution_count": 89,
   "metadata": {
    "vscode": {
     "languageId": "r"
    }
   },
   "outputs": [
    {
     "name": "stdout",
     "output_type": "stream",
     "text": [
      "[1] \"Filter genes\"\n",
      "[1] \"Number of genes 6656\"\n",
      "[1] \"Remaining number of genes 6656\"\n",
      "[1] \"Remaining number of genes 6656\"\n"
     ]
    }
   ],
   "source": [
    "gene.zero.cutoff = 0.7\n",
    "gene.var.cutoff = 0.0\n",
    "\n",
    "filtered.genes <- selectGenes(data, gene.zero.cutoff, gene.var.cutoff)\n",
    "data <- filtered.genes$data"
   ]
  },
  {
   "cell_type": "code",
   "execution_count": 90,
   "metadata": {
    "vscode": {
     "languageId": "r"
    }
   },
   "outputs": [],
   "source": [
    "colnames = colnames(data)\n",
    "\n",
    "# Replace '.' in colnames with '-'\n",
    "colnames = gsub(\"\\\\.\", \"-\", colnames)"
   ]
  },
  {
   "cell_type": "code",
   "execution_count": 91,
   "metadata": {
    "vscode": {
     "languageId": "r"
    }
   },
   "outputs": [],
   "source": [
    "coord <- coord[colnames,]"
   ]
  },
  {
   "cell_type": "markdown",
   "metadata": {},
   "source": [
    "#### Perform logCPM Normalization"
   ]
  },
  {
   "cell_type": "code",
   "execution_count": 92,
   "metadata": {
    "vscode": {
     "languageId": "r"
    }
   },
   "outputs": [],
   "source": [
    "data <- NormalizeLibrarySize(data)\n",
    "data <- log2(data+1)"
   ]
  },
  {
   "cell_type": "markdown",
   "metadata": {},
   "source": [
    "#### Set parameters"
   ]
  },
  {
   "cell_type": "code",
   "execution_count": 105,
   "metadata": {
    "vscode": {
     "languageId": "r"
    }
   },
   "outputs": [],
   "source": [
    "tau.p=16\n",
    "tau.s=2\n",
    "alpha=0.6\n",
    "beta=0.4\n",
    "filling.threshold=0.5\n",
    "\n",
    "# If Visium slide, then set is.hexa to TRUE\n",
    "is.hexa=T\n",
    "\n",
    "# If padding is needed, set is.padding to TRUE\n",
    "is.padding=F"
   ]
  },
  {
   "cell_type": "markdown",
   "metadata": {},
   "source": [
    "#### Find neighbors"
   ]
  },
  {
   "cell_type": "code",
   "execution_count": 94,
   "metadata": {
    "vscode": {
     "languageId": "r"
    }
   },
   "outputs": [],
   "source": [
    "data[is.na(data)] <- 0"
   ]
  },
  {
   "cell_type": "code",
   "execution_count": 95,
   "metadata": {
    "vscode": {
     "languageId": "r"
    }
   },
   "outputs": [],
   "source": [
    "nThreads=8\n",
    "data.mat<-Matrix(as.matrix(data))\n",
    "rpca.res <- calcRandPCA(t(data.mat))"
   ]
  },
  {
   "cell_type": "code",
   "execution_count": 96,
   "metadata": {
    "vscode": {
     "languageId": "r"
    }
   },
   "outputs": [],
   "source": [
    "pdist.mat <- calcPDist(rpca.res) "
   ]
  },
  {
   "cell_type": "code",
   "execution_count": 97,
   "metadata": {
    "vscode": {
     "languageId": "r"
    }
   },
   "outputs": [],
   "source": [
    "rmat <- calcPContribution(pdist.mat)\n",
    "\n",
    "positions <- coord\n",
    "colnames(positions) <- c(\"st.x\",\"st.y\")\n",
    "positions$barcodes <- rownames(positions)"
   ]
  },
  {
   "cell_type": "code",
   "execution_count": 98,
   "metadata": {
    "vscode": {
     "languageId": "r"
    }
   },
   "outputs": [],
   "source": [
    "p.neighbors <- findPNeighbors(rmat, positions, tau.p, nThreads)"
   ]
  },
  {
   "cell_type": "code",
   "execution_count": 99,
   "metadata": {
    "vscode": {
     "languageId": "r"
    }
   },
   "outputs": [],
   "source": [
    "s.neighbors <- findSNeighbors(positions, tau.s, nThreads)"
   ]
  },
  {
   "cell_type": "markdown",
   "metadata": {},
   "source": [
    "#### Smoothing"
   ]
  },
  {
   "cell_type": "code",
   "execution_count": 100,
   "metadata": {
    "vscode": {
     "languageId": "r"
    }
   },
   "outputs": [],
   "source": [
    "exp<-data.mat\n",
    "\n",
    "bars<-names(p.neighbors)\n",
    "ind.bars<-1:length(p.neighbors)\n",
    "names(ind.bars)<-bars\n",
    "\n",
    "cl=makeCluster(nThreads)\n",
    "registerDoParallel(cl)"
   ]
  },
  {
   "cell_type": "markdown",
   "metadata": {},
   "source": [
    "##### Spatial smoothing"
   ]
  },
  {
   "cell_type": "code",
   "execution_count": 101,
   "metadata": {
    "vscode": {
     "languageId": "r"
    }
   },
   "outputs": [],
   "source": [
    "s.exp<-foreach(i=1:length(bars),.combine = \"cbind\",.packages = c(\"dplyr\",\"Matrix\")) %dopar%\n",
    "    {\n",
    "      if(!is.null(s.neighbors[[i]]))\n",
    "        exp[,ind.bars[s.neighbors[[i]]$barcodes]] %*% Matrix(s.neighbors[[i]]$ss.contribution, sparse=T)\n",
    "      else\n",
    "        0\n",
    "    }"
   ]
  },
  {
   "cell_type": "markdown",
   "metadata": {},
   "source": [
    "##### Pattern smoothing"
   ]
  },
  {
   "cell_type": "code",
   "execution_count": 102,
   "metadata": {
    "vscode": {
     "languageId": "r"
    }
   },
   "outputs": [],
   "source": [
    "p.exp<-foreach(i=1:length(bars),.combine = \"cbind\",.packages = c(\"dplyr\",\"Matrix\")) %dopar%\n",
    "    {\n",
    "      if(!is.null(p.neighbors[[i]]))\n",
    "        exp[,ind.bars[p.neighbors[[i]]$barcodes]] %*% Matrix(p.neighbors[[i]]$ps.contribution,sparse=T)\n",
    "      else\n",
    "        0\n",
    "    }"
   ]
  },
  {
   "cell_type": "markdown",
   "metadata": {},
   "source": [
    "##### Calculate smoothed expression"
   ]
  },
  {
   "cell_type": "code",
   "execution_count": 111,
   "metadata": {
    "vscode": {
     "languageId": "r"
    }
   },
   "outputs": [],
   "source": [
    "stopCluster(cl)\n",
    "\n",
    "data.combinedsmooth <- exp * (1-alpha) + (s.exp * beta + p.exp * (1-beta))*alpha\n"
   ]
  },
  {
   "cell_type": "code",
   "execution_count": 113,
   "metadata": {
    "vscode": {
     "languageId": "r"
    }
   },
   "outputs": [],
   "source": [
    "\n",
    "data.combinedsmooth = as.data.frame(as.matrix(data.combinedsmooth))"
   ]
  },
  {
   "cell_type": "code",
   "execution_count": 114,
   "metadata": {
    "vscode": {
     "languageId": "r"
    }
   },
   "outputs": [],
   "source": [
    "if (sum(is.na(data.combinedsmooth)) > 0) {\n",
    "    mean.exp = sum(data.combinedsmooth[!is.na(data.combinedsmooth)]) / sum(!is.na(data.combinedsmooth))\n",
    "    data.combinedsmooth[is.na(data.combinedsmooth)] = mean.exp\n",
    "}"
   ]
  },
  {
   "cell_type": "code",
   "execution_count": 32,
   "metadata": {
    "vscode": {
     "languageId": "r"
    }
   },
   "outputs": [],
   "source": [
    "# Save the combined smoothed expression matrix\n",
    "\n",
    "write.csv(data.combinedsmooth, file = \"test_data/stnet/BC23209_C1_combinedsmooth.txt\", row.names = TRUE)"
   ]
  },
  {
   "cell_type": "code",
   "execution_count": null,
   "metadata": {
    "vscode": {
     "languageId": "r"
    }
   },
   "outputs": [],
   "source": []
  }
 ],
 "metadata": {
  "kernelspec": {
   "display_name": "R",
   "language": "R",
   "name": "ir"
  },
  "language_info": {
   "codemirror_mode": "r",
   "file_extension": ".r",
   "mimetype": "text/x-r-source",
   "name": "R",
   "pygments_lexer": "r",
   "version": "4.3.1"
  }
 },
 "nbformat": 4,
 "nbformat_minor": 2
}
